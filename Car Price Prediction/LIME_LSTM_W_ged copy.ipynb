{
 "cells": [
  {
   "cell_type": "code",
   "execution_count": 1,
   "metadata": {
    "ExecuteTime": {
     "end_time": "2022-05-23T10:27:34.337679Z",
     "start_time": "2022-05-23T10:27:34.324714Z"
    },
    "id": "waKSlVjRC-ci"
   },
   "outputs": [
    {
     "name": "stderr",
     "output_type": "stream",
     "text": [
      "2023-07-23 20:32:32.446673: I tensorflow/core/platform/cpu_feature_guard.cc:182] This TensorFlow binary is optimized to use available CPU instructions in performance-critical operations.\n",
      "To enable the following instructions: AVX2 FMA, in other operations, rebuild TensorFlow with the appropriate compiler flags.\n"
     ]
    }
   ],
   "source": [
    "import tensorflow as tf\n",
    "import math\n",
    "import matplotlib as mpl\n",
    "import matplotlib.pyplot as plt\n",
    "import numpy as np\n",
    "import os\n",
    "import pandas as pd\n",
    "from sklearn.metrics import mean_squared_error, mean_absolute_error, mean_squared_error\n",
    "\n",
    "# gloabl params for all matplotlib plots\n",
    "mpl.rcParams['figure.figsize'] = (8, 6)\n",
    "mpl.rcParams['axes.grid'] = False"
   ]
  },
  {
   "cell_type": "markdown",
   "metadata": {
    "id": "hLq9HQzBC8Cm"
   },
   "source": [
    "## Dataset"
   ]
  },
  {
   "cell_type": "code",
   "execution_count": 2,
   "metadata": {
    "ExecuteTime": {
     "end_time": "2022-05-23T10:27:38.068692Z",
     "start_time": "2022-05-23T10:27:37.481263Z"
    },
    "colab": {
     "base_uri": "https://localhost:8080/",
     "height": 310
    },
    "id": "u3sa6WgJFB_B",
    "outputId": "cca40bd6-534c-4dc9-dedf-bb62398198f5"
   },
   "outputs": [
    {
     "data": {
      "text/html": [
       "<div>\n",
       "<style scoped>\n",
       "    .dataframe tbody tr th:only-of-type {\n",
       "        vertical-align: middle;\n",
       "    }\n",
       "\n",
       "    .dataframe tbody tr th {\n",
       "        vertical-align: top;\n",
       "    }\n",
       "\n",
       "    .dataframe thead th {\n",
       "        text-align: right;\n",
       "    }\n",
       "</style>\n",
       "<table border=\"1\" class=\"dataframe\">\n",
       "  <thead>\n",
       "    <tr style=\"text-align: right;\">\n",
       "      <th></th>\n",
       "      <th>Date</th>\n",
       "      <th>Spx</th>\n",
       "      <th>Gold</th>\n",
       "      <th>Btc</th>\n",
       "      <th>Dji</th>\n",
       "      <th>Eth</th>\n",
       "      <th>Copper</th>\n",
       "      <th>Oil</th>\n",
       "      <th>Gas</th>\n",
       "      <th>Silver</th>\n",
       "      <th>USD</th>\n",
       "    </tr>\n",
       "  </thead>\n",
       "  <tbody>\n",
       "    <tr>\n",
       "      <th>0</th>\n",
       "      <td>2017-01-03</td>\n",
       "      <td>2257.83</td>\n",
       "      <td>1163.2</td>\n",
       "      <td>1037.5</td>\n",
       "      <td>19881.76</td>\n",
       "      <td>9.74</td>\n",
       "      <td>2.4890</td>\n",
       "      <td>52.33</td>\n",
       "      <td>3.327</td>\n",
       "      <td>16.409</td>\n",
       "      <td>103.146</td>\n",
       "    </tr>\n",
       "    <tr>\n",
       "      <th>1</th>\n",
       "      <td>2017-01-04</td>\n",
       "      <td>2270.75</td>\n",
       "      <td>1166.5</td>\n",
       "      <td>1139.6</td>\n",
       "      <td>19942.16</td>\n",
       "      <td>11.00</td>\n",
       "      <td>2.5565</td>\n",
       "      <td>53.26</td>\n",
       "      <td>3.267</td>\n",
       "      <td>16.552</td>\n",
       "      <td>102.649</td>\n",
       "    </tr>\n",
       "    <tr>\n",
       "      <th>2</th>\n",
       "      <td>2017-01-05</td>\n",
       "      <td>2269.00</td>\n",
       "      <td>1182.6</td>\n",
       "      <td>1003.2</td>\n",
       "      <td>19899.29</td>\n",
       "      <td>10.15</td>\n",
       "      <td>2.5375</td>\n",
       "      <td>53.76</td>\n",
       "      <td>3.273</td>\n",
       "      <td>16.637</td>\n",
       "      <td>101.453</td>\n",
       "    </tr>\n",
       "    <tr>\n",
       "      <th>3</th>\n",
       "      <td>2017-01-06</td>\n",
       "      <td>2276.98</td>\n",
       "      <td>1174.8</td>\n",
       "      <td>898.0</td>\n",
       "      <td>19963.80</td>\n",
       "      <td>10.08</td>\n",
       "      <td>2.5460</td>\n",
       "      <td>53.99</td>\n",
       "      <td>3.285</td>\n",
       "      <td>16.519</td>\n",
       "      <td>102.139</td>\n",
       "    </tr>\n",
       "    <tr>\n",
       "      <th>4</th>\n",
       "      <td>2017-01-09</td>\n",
       "      <td>2268.90</td>\n",
       "      <td>1186.3</td>\n",
       "      <td>903.0</td>\n",
       "      <td>19887.38</td>\n",
       "      <td>10.26</td>\n",
       "      <td>2.5385</td>\n",
       "      <td>51.96</td>\n",
       "      <td>3.103</td>\n",
       "      <td>16.683</td>\n",
       "      <td>101.844</td>\n",
       "    </tr>\n",
       "  </tbody>\n",
       "</table>\n",
       "</div>"
      ],
      "text/plain": [
       "         Date      Spx    Gold     Btc       Dji    Eth  Copper    Oil    Gas  \\\n",
       "0  2017-01-03  2257.83  1163.2  1037.5  19881.76   9.74  2.4890  52.33  3.327   \n",
       "1  2017-01-04  2270.75  1166.5  1139.6  19942.16  11.00  2.5565  53.26  3.267   \n",
       "2  2017-01-05  2269.00  1182.6  1003.2  19899.29  10.15  2.5375  53.76  3.273   \n",
       "3  2017-01-06  2276.98  1174.8   898.0  19963.80  10.08  2.5460  53.99  3.285   \n",
       "4  2017-01-09  2268.90  1186.3   903.0  19887.38  10.26  2.5385  51.96  3.103   \n",
       "\n",
       "   Silver      USD  \n",
       "0  16.409  103.146  \n",
       "1  16.552  102.649  \n",
       "2  16.637  101.453  \n",
       "3  16.519  102.139  \n",
       "4  16.683  101.844  "
      ]
     },
     "execution_count": 2,
     "metadata": {},
     "output_type": "execute_result"
    }
   ],
   "source": [
    "df = pd.read_csv('../datasets/clean_data.csv')\n",
    "df.head()"
   ]
  },
  {
   "cell_type": "code",
   "execution_count": 3,
   "metadata": {},
   "outputs": [
    {
     "data": {
      "text/html": [
       "<div>\n",
       "<style scoped>\n",
       "    .dataframe tbody tr th:only-of-type {\n",
       "        vertical-align: middle;\n",
       "    }\n",
       "\n",
       "    .dataframe tbody tr th {\n",
       "        vertical-align: top;\n",
       "    }\n",
       "\n",
       "    .dataframe thead th {\n",
       "        text-align: right;\n",
       "    }\n",
       "</style>\n",
       "<table border=\"1\" class=\"dataframe\">\n",
       "  <thead>\n",
       "    <tr style=\"text-align: right;\">\n",
       "      <th></th>\n",
       "      <th>Spx</th>\n",
       "      <th>Dji</th>\n",
       "      <th>Gold</th>\n",
       "      <th>Eth</th>\n",
       "    </tr>\n",
       "    <tr>\n",
       "      <th>Date</th>\n",
       "      <th></th>\n",
       "      <th></th>\n",
       "      <th></th>\n",
       "      <th></th>\n",
       "    </tr>\n",
       "  </thead>\n",
       "  <tbody>\n",
       "    <tr>\n",
       "      <th>2017-01-03</th>\n",
       "      <td>2257.83</td>\n",
       "      <td>19881.76</td>\n",
       "      <td>1163.2</td>\n",
       "      <td>9.74</td>\n",
       "    </tr>\n",
       "    <tr>\n",
       "      <th>2017-01-04</th>\n",
       "      <td>2270.75</td>\n",
       "      <td>19942.16</td>\n",
       "      <td>1166.5</td>\n",
       "      <td>11.00</td>\n",
       "    </tr>\n",
       "    <tr>\n",
       "      <th>2017-01-05</th>\n",
       "      <td>2269.00</td>\n",
       "      <td>19899.29</td>\n",
       "      <td>1182.6</td>\n",
       "      <td>10.15</td>\n",
       "    </tr>\n",
       "    <tr>\n",
       "      <th>2017-01-06</th>\n",
       "      <td>2276.98</td>\n",
       "      <td>19963.80</td>\n",
       "      <td>1174.8</td>\n",
       "      <td>10.08</td>\n",
       "    </tr>\n",
       "    <tr>\n",
       "      <th>2017-01-09</th>\n",
       "      <td>2268.90</td>\n",
       "      <td>19887.38</td>\n",
       "      <td>1186.3</td>\n",
       "      <td>10.26</td>\n",
       "    </tr>\n",
       "  </tbody>\n",
       "</table>\n",
       "</div>"
      ],
      "text/plain": [
       "                Spx       Dji    Gold    Eth\n",
       "Date                                        \n",
       "2017-01-03  2257.83  19881.76  1163.2   9.74\n",
       "2017-01-04  2270.75  19942.16  1166.5  11.00\n",
       "2017-01-05  2269.00  19899.29  1182.6  10.15\n",
       "2017-01-06  2276.98  19963.80  1174.8  10.08\n",
       "2017-01-09  2268.90  19887.38  1186.3  10.26"
      ]
     },
     "execution_count": 3,
     "metadata": {},
     "output_type": "execute_result"
    }
   ],
   "source": [
    "# Features\n",
    "features_considered = ['Spx', 'Dji', 'Gold', 'Eth']\n",
    "\n",
    "features = df[features_considered]\n",
    "features.index = df['Date']\n",
    "features.head()"
   ]
  },
  {
   "cell_type": "code",
   "execution_count": 4,
   "metadata": {},
   "outputs": [],
   "source": [
    "# Standardize data\n",
    "data_mean = features.mean(axis=0)\n",
    "data_std = features.std(axis=0)\n",
    "features = (features - data_mean) / data_std\n",
    "\n",
    "# Inverse scaling\n",
    "unscaled_features = (features * data_std) + data_mean"
   ]
  },
  {
   "cell_type": "markdown",
   "metadata": {},
   "source": [
    "## Train-Val-Test split"
   ]
  },
  {
   "cell_type": "code",
   "execution_count": 5,
   "metadata": {},
   "outputs": [
    {
     "name": "stdout",
     "output_type": "stream",
     "text": [
      "Mean of the series:\n",
      " Spx      3282.708394\n",
      "Dji     27837.383826\n",
      "Gold     1552.489443\n",
      "Eth       992.669750\n",
      "dtype: float64\n"
     ]
    }
   ],
   "source": [
    "# Compute the index values for slicing the dataset\n",
    "total_size = len(unscaled_features)\n",
    "train_size = int(total_size * 0.8)\n",
    "val_size = int(total_size * 0.1)\n",
    "\n",
    "# Slice the standardized features dataset into train-validation-test sets\n",
    "train_data = unscaled_features[:train_size]\n",
    "val_data = unscaled_features[train_size:train_size+val_size]\n",
    "test_data = unscaled_features[train_size+val_size:]\n",
    "\n",
    "# Calculate the mean of the series\n",
    "mean = unscaled_features.mean()\n",
    "print(\"Mean of the series:\\n\", mean)"
   ]
  },
  {
   "cell_type": "markdown",
   "metadata": {
    "id": "QmcElSkyFl3O"
   },
   "source": [
    "**Forecasting task:**  Predict Spx in the future.\n",
    "\n",
    "\n"
   ]
  },
  {
   "cell_type": "markdown",
   "metadata": {
    "id": "CAHehN4MDO2x"
   },
   "source": [
    "## Moving window average"
   ]
  },
  {
   "cell_type": "markdown",
   "metadata": {
    "id": "yjob9HXiHGcM"
   },
   "source": [
    "### MWA: \n",
    "Average the previous k values to predict the next value."
   ]
  },
  {
   "cell_type": "code",
   "execution_count": 6,
   "metadata": {},
   "outputs": [
    {
     "name": "stdout",
     "output_type": "stream",
     "text": [
      "[-20, -19, -18, -17, -16, -15, -14, -13, -12, -11, -10, -9, -8, -7, -6, -5, -4, -3, -2, -1]\n"
     ]
    }
   ],
   "source": [
    "#utility function\n",
    "def create_time_steps(length):\n",
    "  return list(range(-length, 0))\n",
    "\n",
    "print(create_time_steps(20))"
   ]
  },
  {
   "cell_type": "code",
   "execution_count": 7,
   "metadata": {
    "ExecuteTime": {
     "end_time": "2022-05-23T10:27:58.585293Z",
     "start_time": "2022-05-23T10:27:58.572301Z"
    },
    "id": "xu3g7s8xN2uF"
   },
   "outputs": [],
   "source": [
    "# New params:\n",
    "# step: instead of taking data for each day, do you want to generate data once evrey 6 steps (6 days)\n",
    "# single_step: lables from single timestamp or multiple timesteps\n",
    "\n",
    "def multivariate_data(dataset, target, start_index, end_index, history_size,\n",
    "                      target_size, step, single_step=False):\n",
    "  data = []\n",
    "  labels = []\n",
    "\n",
    "  start_index = start_index + history_size\n",
    "  if end_index is None:\n",
    "    end_index = len(dataset) - target_size\n",
    "\n",
    "  for i in range(start_index, end_index):\n",
    "    indices = range(i-history_size, i, step) # step used here.\n",
    "    data.append(dataset[indices])\n",
    "\n",
    "    if single_step: # single_step used here.\n",
    "      labels.append(target[i+target_size]) \n",
    "    else:\n",
    "      labels.append(target[i:i+target_size]) \n",
    "\n",
    "  return np.array(data), np.array(labels)"
   ]
  },
  {
   "cell_type": "code",
   "execution_count": 8,
   "metadata": {},
   "outputs": [],
   "source": [
    "# Plot train and validation loss over epochs\n",
    "\n",
    "def plot_train_history(history, title):\n",
    "  loss = history.history['loss']\n",
    "  val_loss = history.history['val_loss']\n",
    "\n",
    "  epochs = range(len(loss))\n",
    "\n",
    "  plt.figure()\n",
    "\n",
    "  plt.plot(epochs, loss, 'b', label='Training loss')\n",
    "  plt.plot(epochs, val_loss, 'r', label='Validation loss')\n",
    "  plt.title(title)\n",
    "  plt.legend()\n",
    "  plt.grid()\n",
    "\n",
    "  plt.show()\n",
    "\n",
    "#plotting function\n",
    "def multi_step_plot(history, true_future, prediction):\n",
    "  plt.figure(figsize=(12, 6))\n",
    "  num_in = create_time_steps(len(history))\n",
    "  num_out = len(true_future)\n",
    "  plt.grid()\n",
    "  plt.plot(num_in, np.array(history[:, 1]), label='History')\n",
    "  plt.plot(np.arange(num_out)/STEP, np.array(true_future), 'bo',\n",
    "           label='True Future')\n",
    "  if prediction.any():\n",
    "    plt.plot(np.arange(num_out)/STEP, np.array(prediction), 'ro',\n",
    "             label='Predicted Future')\n",
    "  plt.legend(loc='upper left')\n",
    "  plt.show()"
   ]
  },
  {
   "cell_type": "code",
   "execution_count": 9,
   "metadata": {},
   "outputs": [],
   "source": [
    "def plot_predictions(val_data, model):\n",
    "    for x, y in val_data.take(4): # b4: val_data_multi\n",
    "      multi_step_plot(x[0], y[0], model.predict(x)[0]) # b4: multi_step_model    "
   ]
  },
  {
   "cell_type": "code",
   "execution_count": 10,
   "metadata": {},
   "outputs": [],
   "source": [
    "# TF Dataset preperation\n",
    "tf.random.set_seed(111) # random seed \n",
    "past_history = 5\n",
    "future_target = 5 # 5 future values\n",
    "STEP = 1\n",
    "# past history possible values: 22 => a business month; 10 two bisiness weeks; 5 => a business week \n",
    "# future_target: 5 = > 5 in the future, not next day\n",
    "BATCH_SIZE = 86 # bacth size in batch-SGD/variants\n",
    "EPOCHS = 30\n",
    "STEPS_PER_EPOCH = 50\n",
    "BUFFER_SIZE = 888 # for shuffling the dataset"
   ]
  },
  {
   "cell_type": "markdown",
   "metadata": {
    "id": "dEayZXzrDG-w"
   },
   "source": [
    "## Multi-variate & multi-step forecasting"
   ]
  },
  {
   "cell_type": "code",
   "execution_count": 11,
   "metadata": {},
   "outputs": [],
   "source": [
    "target_variable = 'Spx'\n",
    "train_target_data = train_data[target_variable].values\n",
    "train_feature_data = train_data.drop(target_variable, axis=1).values\n",
    "###\n",
    "val_target_data = val_data[target_variable].values\n",
    "val_feature_data = val_data.drop(target_variable, axis=1).values\n",
    "###\n",
    "test_target_data = test_data[target_variable].values\n",
    "test_feature_data = test_data.drop(target_variable, axis=1).values"
   ]
  },
  {
   "cell_type": "code",
   "execution_count": 12,
   "metadata": {},
   "outputs": [],
   "source": [
    "x_train_multi, y_train_multi = multivariate_data(train_feature_data, train_target_data, 0,\n",
    "                                                 None, past_history,\n",
    "                                                 future_target, STEP)\n",
    "\n",
    "x_val_multi, y_val_multi = multivariate_data(val_feature_data, val_target_data,\n",
    "                                             0, None, past_history,\n",
    "                                             future_target, STEP)\n",
    "\n",
    "x_test_multi, y_test_multi = multivariate_data(test_feature_data, test_target_data,\n",
    "                                               0, None, past_history,\n",
    "                                               future_target, STEP)\n"
   ]
  },
  {
   "cell_type": "code",
   "execution_count": 13,
   "metadata": {},
   "outputs": [
    {
     "name": "stdout",
     "output_type": "stream",
     "text": [
      "(1240, 5, 3)\n",
      "(1240, 5)\n",
      "(146, 5, 3)\n",
      "(146, 5)\n"
     ]
    }
   ],
   "source": [
    "print(x_train_multi.shape)\n",
    "print(y_train_multi.shape)\n",
    "\n",
    "print(x_val_multi.shape)\n",
    "print(y_val_multi.shape)"
   ]
  },
  {
   "cell_type": "code",
   "execution_count": 14,
   "metadata": {
    "ExecuteTime": {
     "end_time": "2022-05-23T10:28:43.527322Z",
     "start_time": "2022-05-23T10:28:35.284840Z"
    },
    "colab": {
     "base_uri": "https://localhost:8080/"
    },
    "id": "9icxcne0b8Ck",
    "outputId": "8f1512a5-0871-4e69-855e-60abe95e45d2"
   },
   "outputs": [],
   "source": [
    "train_data_multi = tf.data.Dataset.from_tensor_slices((x_train_multi, y_train_multi))\n",
    "train_data_multi = train_data_multi.cache().shuffle(BUFFER_SIZE).batch(BATCH_SIZE).repeat()\n",
    "\n",
    "val_data_multi = tf.data.Dataset.from_tensor_slices((x_val_multi, y_val_multi))\n",
    "val_data_multi = val_data_multi.batch(BATCH_SIZE).repeat()\n",
    "\n",
    "test_data_multi = tf.data.Dataset.from_tensor_slices((x_test_multi, y_test_multi))\n",
    "test_data_multi = test_data_multi.batch(BATCH_SIZE)  # remove repeat() method"
   ]
  },
  {
   "cell_type": "code",
   "execution_count": 15,
   "metadata": {
    "scrolled": false
   },
   "outputs": [
    {
     "name": "stderr",
     "output_type": "stream",
     "text": [
      "2023-07-23 20:32:37.182712: I tensorflow/core/common_runtime/executor.cc:1197] [/device:CPU:0] (DEBUG INFO) Executor start aborting (this does not indicate an error and you can ignore this message): INVALID_ARGUMENT: You must feed a value for placeholder tensor 'Placeholder/_1' with dtype double and shape [1240,5]\n",
      "\t [[{{node Placeholder/_1}}]]\n",
      "2023-07-23 20:32:37.193946: W tensorflow/core/kernels/data/cache_dataset_ops.cc:856] The calling iterator did not fully read the dataset being cached. In order to avoid unexpected truncation of the dataset, the partially cached contents of the dataset  will be discarded. This can happen if you have an input pipeline similar to `dataset.cache().take(k).repeat()`. You should use `dataset.take(k).cache().repeat()` instead.\n"
     ]
    },
    {
     "data": {
      "image/png": "[encoded data removed]",
      "text/plain": [
       "<Figure size 1200x600 with 1 Axes>"
      ]
     },
     "metadata": {},
     "output_type": "display_data"
    }
   ],
   "source": [
    "for x, y in train_data_multi.take(1):\n",
    "  multi_step_plot(x[0], y[0], np.array([0]))"
   ]
  },
  {
   "cell_type": "code",
   "execution_count": 16,
   "metadata": {},
   "outputs": [],
   "source": [
    "activation_functions = np.array([\n",
    "    'sigmoid',\n",
    "    'tanh',\n",
    "    'relu',\n",
    "    'leaky_relu',\n",
    "    'elu',\n",
    "    'softmax',\n",
    "    'swish',\n",
    "    'gelu',\n",
    "])"
   ]
  },
  {
   "cell_type": "markdown",
   "metadata": {
    "ExecuteTime": {
     "end_time": "2022-05-23T10:28:44.704676Z",
     "start_time": "2022-05-23T10:28:44.651817Z"
    },
    "colab": {
     "base_uri": "https://localhost:8080/"
    },
    "id": "bhqqW4d8c8uV",
    "outputId": "bb6284d5-2e76-4dad-b88e-9b228a779b53"
   },
   "source": [
    "## Modeling"
   ]
  },
  {
   "cell_type": "code",
   "execution_count": 17,
   "metadata": {},
   "outputs": [
    {
     "name": "stdout",
     "output_type": "stream",
     "text": [
      "Epoch 1/100\n"
     ]
    },
    {
     "name": "stderr",
     "output_type": "stream",
     "text": [
      "2023-07-23 20:32:37.690202: I tensorflow/core/common_runtime/executor.cc:1197] [/device:CPU:0] (DEBUG INFO) Executor start aborting (this does not indicate an error and you can ignore this message): INVALID_ARGUMENT: You must feed a value for placeholder tensor 'gradients/split_2_grad/concat/split_2/split_dim' with dtype int32\n",
      "\t [[{{node gradients/split_2_grad/concat/split_2/split_dim}}]]\n",
      "2023-07-23 20:32:37.692631: I tensorflow/core/common_runtime/executor.cc:1197] [/device:CPU:0] (DEBUG INFO) Executor start aborting (this does not indicate an error and you can ignore this message): INVALID_ARGUMENT: You must feed a value for placeholder tensor 'gradients/split_grad/concat/split/split_dim' with dtype int32\n",
      "\t [[{{node gradients/split_grad/concat/split/split_dim}}]]\n",
      "2023-07-23 20:32:37.694392: I tensorflow/core/common_runtime/executor.cc:1197] [/device:CPU:0] (DEBUG INFO) Executor start aborting (this does not indicate an error and you can ignore this message): INVALID_ARGUMENT: You must feed a value for placeholder tensor 'gradients/split_1_grad/concat/split_1/split_dim' with dtype int32\n",
      "\t [[{{node gradients/split_1_grad/concat/split_1/split_dim}}]]\n",
      "2023-07-23 20:32:37.835720: I tensorflow/core/common_runtime/executor.cc:1197] [/device:CPU:0] (DEBUG INFO) Executor start aborting (this does not indicate an error and you can ignore this message): INVALID_ARGUMENT: You must feed a value for placeholder tensor 'Placeholder/_1' with dtype double and shape [1240,5]\n",
      "\t [[{{node Placeholder/_1}}]]\n",
      "2023-07-23 20:32:38.108743: I tensorflow/core/common_runtime/executor.cc:1197] [/device:CPU:0] (DEBUG INFO) Executor start aborting (this does not indicate an error and you can ignore this message): INVALID_ARGUMENT: You must feed a value for placeholder tensor 'gradients/split_2_grad/concat/split_2/split_dim' with dtype int32\n",
      "\t [[{{node gradients/split_2_grad/concat/split_2/split_dim}}]]\n",
      "2023-07-23 20:32:38.111076: I tensorflow/core/common_runtime/executor.cc:1197] [/device:CPU:0] (DEBUG INFO) Executor start aborting (this does not indicate an error and you can ignore this message): INVALID_ARGUMENT: You must feed a value for placeholder tensor 'gradients/split_grad/concat/split/split_dim' with dtype int32\n",
      "\t [[{{node gradients/split_grad/concat/split/split_dim}}]]\n",
      "2023-07-23 20:32:38.112814: I tensorflow/core/common_runtime/executor.cc:1197] [/device:CPU:0] (DEBUG INFO) Executor start aborting (this does not indicate an error and you can ignore this message): INVALID_ARGUMENT: You must feed a value for placeholder tensor 'gradients/split_1_grad/concat/split_1/split_dim' with dtype int32\n",
      "\t [[{{node gradients/split_1_grad/concat/split_1/split_dim}}]]\n",
      "2023-07-23 20:32:39.797175: I tensorflow/core/common_runtime/executor.cc:1197] [/device:CPU:0] (DEBUG INFO) Executor start aborting (this does not indicate an error and you can ignore this message): INVALID_ARGUMENT: You must feed a value for placeholder tensor 'gradients/split_2_grad/concat/split_2/split_dim' with dtype int32\n",
      "\t [[{{node gradients/split_2_grad/concat/split_2/split_dim}}]]\n",
      "2023-07-23 20:32:39.799810: I tensorflow/core/common_runtime/executor.cc:1197] [/device:CPU:0] (DEBUG INFO) Executor start aborting (this does not indicate an error and you can ignore this message): INVALID_ARGUMENT: You must feed a value for placeholder tensor 'gradients/split_grad/concat/split/split_dim' with dtype int32\n",
      "\t [[{{node gradients/split_grad/concat/split/split_dim}}]]\n",
      "2023-07-23 20:32:39.801748: I tensorflow/core/common_runtime/executor.cc:1197] [/device:CPU:0] (DEBUG INFO) Executor start aborting (this does not indicate an error and you can ignore this message): INVALID_ARGUMENT: You must feed a value for placeholder tensor 'gradients/split_1_grad/concat/split_1/split_dim' with dtype int32\n",
      "\t [[{{node gradients/split_1_grad/concat/split_1/split_dim}}]]\n"
     ]
    },
    {
     "name": "stdout",
     "output_type": "stream",
     "text": [
      "260/265 [============================>.] - ETA: 0s - loss: 3303.4478"
     ]
    },
    {
     "name": "stderr",
     "output_type": "stream",
     "text": [
      "2023-07-23 20:32:44.487045: I tensorflow/core/common_runtime/executor.cc:1197] [/device:CPU:0] (DEBUG INFO) Executor start aborting (this does not indicate an error and you can ignore this message): INVALID_ARGUMENT: You must feed a value for placeholder tensor 'Placeholder/_1' with dtype double and shape [146,5]\n",
      "\t [[{{node Placeholder/_1}}]]\n",
      "2023-07-23 20:32:44.757783: I tensorflow/core/common_runtime/executor.cc:1197] [/device:CPU:0] (DEBUG INFO) Executor start aborting (this does not indicate an error and you can ignore this message): INVALID_ARGUMENT: You must feed a value for placeholder tensor 'gradients/split_2_grad/concat/split_2/split_dim' with dtype int32\n",
      "\t [[{{node gradients/split_2_grad/concat/split_2/split_dim}}]]\n",
      "2023-07-23 20:32:44.760092: I tensorflow/core/common_runtime/executor.cc:1197] [/device:CPU:0] (DEBUG INFO) Executor start aborting (this does not indicate an error and you can ignore this message): INVALID_ARGUMENT: You must feed a value for placeholder tensor 'gradients/split_grad/concat/split/split_dim' with dtype int32\n",
      "\t [[{{node gradients/split_grad/concat/split/split_dim}}]]\n",
      "2023-07-23 20:32:44.761928: I tensorflow/core/common_runtime/executor.cc:1197] [/device:CPU:0] (DEBUG INFO) Executor start aborting (this does not indicate an error and you can ignore this message): INVALID_ARGUMENT: You must feed a value for placeholder tensor 'gradients/split_1_grad/concat/split_1/split_dim' with dtype int32\n",
      "\t [[{{node gradients/split_1_grad/concat/split_1/split_dim}}]]\n"
     ]
    },
    {
     "name": "stdout",
     "output_type": "stream",
     "text": [
      "265/265 [==============================] - 8s 11ms/step - loss: 3305.3250 - val_loss: 4727.2935\n",
      "Epoch 2/100\n",
      "265/265 [==============================] - 2s 9ms/step - loss: 3296.2046 - val_loss: 4719.4082\n",
      "Epoch 3/100\n",
      "265/265 [==============================] - 2s 9ms/step - loss: 3292.7058 - val_loss: 4711.6729\n",
      "Epoch 4/100\n",
      "265/265 [==============================] - 2s 9ms/step - loss: 3281.9224 - val_loss: 4704.0981\n",
      "Epoch 5/100\n",
      "265/265 [==============================] - 2s 9ms/step - loss: 3273.0327 - val_loss: 4696.6699\n",
      "Epoch 6/100\n",
      "265/265 [==============================] - 2s 9ms/step - loss: 3270.3616 - val_loss: 4689.3745\n",
      "Epoch 7/100\n",
      "265/265 [==============================] - 2s 9ms/step - loss: 3259.6216 - val_loss: 4682.2358\n",
      "Epoch 8/100\n",
      "265/265 [==============================] - 2s 9ms/step - loss: 3252.4675 - val_loss: 4675.2295\n",
      "Epoch 9/100\n",
      "265/265 [==============================] - 2s 9ms/step - loss: 3248.2068 - val_loss: 4668.3569\n",
      "Epoch 10/100\n",
      "265/265 [==============================] - 2s 9ms/step - loss: 3237.5383 - val_loss: 4661.5977\n",
      "Epoch 11/100\n",
      "265/265 [==============================] - 2s 9ms/step - loss: 3233.2070 - val_loss: 4654.9863\n",
      "Epoch 12/100\n",
      "265/265 [==============================] - 2s 9ms/step - loss: 3228.2124 - val_loss: 4648.5107\n",
      "Epoch 13/100\n",
      "265/265 [==============================] - 2s 9ms/step - loss: 3218.9839 - val_loss: 4642.1772\n",
      "Epoch 14/100\n",
      "265/265 [==============================] - 2s 9ms/step - loss: 3212.5920 - val_loss: 4635.9688\n",
      "Epoch 15/100\n",
      "265/265 [==============================] - 3s 10ms/step - loss: 3209.6575 - val_loss: 4629.8945\n",
      "Epoch 16/100\n",
      "265/265 [==============================] - 3s 9ms/step - loss: 3200.4463 - val_loss: 4623.9697\n",
      "Epoch 17/100\n",
      "265/265 [==============================] - 2s 9ms/step - loss: 3194.6919 - val_loss: 4618.1738\n",
      "Epoch 18/100\n",
      "265/265 [==============================] - 2s 9ms/step - loss: 3192.0347 - val_loss: 4612.5039\n",
      "Epoch 19/100\n",
      "265/265 [==============================] - 2s 9ms/step - loss: 3183.3359 - val_loss: 4606.9590\n",
      "Epoch 20/100\n",
      "265/265 [==============================] - 2s 9ms/step - loss: 3177.7031 - val_loss: 4601.5068\n",
      "Epoch 21/100\n",
      "265/265 [==============================] - 2s 9ms/step - loss: 3175.6416 - val_loss: 4596.2095\n",
      "Epoch 22/100\n",
      "265/265 [==============================] - 2s 9ms/step - loss: 3166.6479 - val_loss: 4591.0420\n",
      "Epoch 23/100\n",
      "265/265 [==============================] - 2s 9ms/step - loss: 3162.4019 - val_loss: 4586.0000\n",
      "Epoch 24/100\n",
      "265/265 [==============================] - 2s 9ms/step - loss: 3160.5325 - val_loss: 4581.0947\n",
      "Epoch 25/100\n",
      "265/265 [==============================] - 2s 9ms/step - loss: 3151.6345 - val_loss: 4576.2969\n",
      "Epoch 26/100\n",
      "265/265 [==============================] - 2s 9ms/step - loss: 3147.9009 - val_loss: 4571.6162\n",
      "Epoch 27/100\n",
      "265/265 [==============================] - 2s 9ms/step - loss: 3146.0977 - val_loss: 4566.9028\n",
      "Epoch 28/100\n",
      "265/265 [==============================] - 2s 9ms/step - loss: 3137.2107 - val_loss: 4562.3687\n",
      "Epoch 29/100\n",
      "265/265 [==============================] - 2s 9ms/step - loss: 3134.2791 - val_loss: 4557.8936\n",
      "Epoch 30/100\n",
      "265/265 [==============================] - 2s 9ms/step - loss: 3132.5234 - val_loss: 4553.3525\n",
      "Epoch 31/100\n",
      "265/265 [==============================] - 2s 9ms/step - loss: 3123.6565 - val_loss: 4547.5200\n",
      "Epoch 32/100\n",
      "265/265 [==============================] - 2s 9ms/step - loss: 3113.8464 - val_loss: 4536.1187\n",
      "Epoch 33/100\n",
      "265/265 [==============================] - 2s 9ms/step - loss: 3101.1641 - val_loss: 4515.0420\n",
      "Epoch 34/100\n",
      "265/265 [==============================] - 2s 9ms/step - loss: 3067.1018 - val_loss: 4477.6816\n",
      "Epoch 35/100\n",
      "265/265 [==============================] - 2s 9ms/step - loss: 3024.3704 - val_loss: 4433.1323\n",
      "Epoch 36/100\n",
      "265/265 [==============================] - 2s 9ms/step - loss: 2974.1672 - val_loss: 4370.6855\n",
      "Epoch 37/100\n",
      "265/265 [==============================] - 2s 9ms/step - loss: 2896.8691 - val_loss: 4292.0684\n",
      "Epoch 38/100\n",
      "265/265 [==============================] - 2s 9ms/step - loss: 2805.8792 - val_loss: 4188.7666\n",
      "Epoch 39/100\n",
      "265/265 [==============================] - 2s 9ms/step - loss: 2692.1785 - val_loss: 4065.5232\n",
      "Epoch 40/100\n",
      "265/265 [==============================] - 2s 9ms/step - loss: 2549.8462 - val_loss: 3914.2739\n",
      "Epoch 41/100\n",
      "265/265 [==============================] - 2s 9ms/step - loss: 2380.5129 - val_loss: 3713.7041\n",
      "Epoch 42/100\n",
      "265/265 [==============================] - 3s 10ms/step - loss: 2167.3662 - val_loss: 3494.0266\n",
      "Epoch 43/100\n",
      "265/265 [==============================] - 2s 9ms/step - loss: 1934.2266 - val_loss: 3245.6270\n",
      "Epoch 44/100\n",
      "265/265 [==============================] - 3s 10ms/step - loss: 1660.6281 - val_loss: 2955.4990\n",
      "Epoch 45/100\n",
      "265/265 [==============================] - 2s 9ms/step - loss: 1354.1575 - val_loss: 2627.6643\n",
      "Epoch 46/100\n",
      "265/265 [==============================] - 2s 9ms/step - loss: 1014.8378 - val_loss: 2280.7012\n",
      "Epoch 47/100\n",
      "265/265 [==============================] - 2s 9ms/step - loss: 729.0833 - val_loss: 1954.6189\n",
      "Epoch 48/100\n",
      "265/265 [==============================] - 2s 9ms/step - loss: 595.9270 - val_loss: 1774.4498\n",
      "Epoch 49/100\n",
      "265/265 [==============================] - 3s 9ms/step - loss: 533.7587 - val_loss: 1621.4971\n",
      "Epoch 50/100\n",
      "265/265 [==============================] - 2s 9ms/step - loss: 483.2345 - val_loss: 1468.0282\n",
      "Epoch 51/100\n",
      "265/265 [==============================] - 2s 9ms/step - loss: 444.1006 - val_loss: 1326.7655\n",
      "Epoch 52/100\n",
      "265/265 [==============================] - 2s 9ms/step - loss: 405.5325 - val_loss: 1191.0667\n",
      "Epoch 53/100\n",
      "265/265 [==============================] - 2s 9ms/step - loss: 375.4571 - val_loss: 1072.6232\n",
      "Epoch 54/100\n",
      "265/265 [==============================] - 2s 9ms/step - loss: 348.6105 - val_loss: 926.5124\n",
      "Epoch 55/100\n",
      "265/265 [==============================] - 2s 9ms/step - loss: 320.4680 - val_loss: 770.6313\n",
      "Epoch 56/100\n",
      "265/265 [==============================] - 2s 9ms/step - loss: 292.3464 - val_loss: 592.0654\n",
      "Epoch 57/100\n",
      "265/265 [==============================] - 2s 9ms/step - loss: 266.6012 - val_loss: 465.6919\n",
      "Epoch 58/100\n",
      "265/265 [==============================] - 2s 9ms/step - loss: 245.6914 - val_loss: 358.4743\n",
      "Epoch 59/100\n",
      "265/265 [==============================] - 2s 9ms/step - loss: 231.4789 - val_loss: 353.8459\n",
      "Epoch 60/100\n",
      "265/265 [==============================] - 2s 9ms/step - loss: 219.9619 - val_loss: 300.1089\n",
      "Epoch 61/100\n",
      "265/265 [==============================] - 2s 9ms/step - loss: 212.1995 - val_loss: 319.4559\n",
      "Epoch 62/100\n",
      "265/265 [==============================] - 2s 9ms/step - loss: 206.2253 - val_loss: 324.8896\n",
      "Epoch 63/100\n",
      "265/265 [==============================] - 2s 9ms/step - loss: 200.6268 - val_loss: 299.2180\n",
      "Epoch 64/100\n",
      "265/265 [==============================] - 2s 9ms/step - loss: 197.5278 - val_loss: 309.5463\n",
      "Epoch 65/100\n",
      "265/265 [==============================] - 2s 9ms/step - loss: 193.4680 - val_loss: 295.2477\n",
      "Epoch 66/100\n",
      "265/265 [==============================] - 2s 9ms/step - loss: 191.5580 - val_loss: 299.1828\n",
      "Epoch 67/100\n",
      "265/265 [==============================] - 2s 9ms/step - loss: 187.7313 - val_loss: 306.9135\n",
      "Epoch 68/100\n",
      "265/265 [==============================] - 2s 9ms/step - loss: 184.5142 - val_loss: 291.1522\n",
      "Epoch 69/100\n",
      "265/265 [==============================] - 2s 9ms/step - loss: 183.5972 - val_loss: 288.9367\n",
      "Epoch 70/100\n",
      "265/265 [==============================] - 2s 9ms/step - loss: 180.0175 - val_loss: 278.8090\n",
      "Epoch 71/100\n",
      "265/265 [==============================] - 2s 9ms/step - loss: 176.7627 - val_loss: 297.7688\n",
      "Epoch 72/100\n",
      "265/265 [==============================] - 2s 9ms/step - loss: 175.5760 - val_loss: 283.6966\n",
      "Epoch 73/100\n",
      "265/265 [==============================] - 2s 9ms/step - loss: 176.1169 - val_loss: 312.9356\n",
      "Epoch 74/100\n",
      "265/265 [==============================] - 3s 10ms/step - loss: 173.6212 - val_loss: 305.3048\n",
      "Epoch 75/100\n",
      "265/265 [==============================] - 2s 9ms/step - loss: 171.5051 - val_loss: 332.4700\n",
      "Epoch 76/100\n",
      "265/265 [==============================] - 3s 10ms/step - loss: 168.8213 - val_loss: 292.1771\n",
      "Epoch 77/100\n"
     ]
    },
    {
     "name": "stdout",
     "output_type": "stream",
     "text": [
      "265/265 [==============================] - 3s 13ms/step - loss: 166.3705 - val_loss: 301.6190\n",
      "Epoch 78/100\n",
      "265/265 [==============================] - 3s 10ms/step - loss: 164.8649 - val_loss: 307.8263\n",
      "Epoch 79/100\n",
      "265/265 [==============================] - 2s 9ms/step - loss: 164.1707 - val_loss: 296.4994\n",
      "Epoch 80/100\n",
      "265/265 [==============================] - 2s 9ms/step - loss: 162.5456 - val_loss: 296.6304\n",
      "Epoch 81/100\n",
      "265/265 [==============================] - 3s 11ms/step - loss: 161.0676 - val_loss: 295.7420\n",
      "Epoch 82/100\n",
      "265/265 [==============================] - 3s 11ms/step - loss: 159.2117 - val_loss: 304.5936\n",
      "Epoch 83/100\n",
      "265/265 [==============================] - 3s 11ms/step - loss: 158.2213 - val_loss: 274.6783\n",
      "Epoch 84/100\n",
      "265/265 [==============================] - 2s 9ms/step - loss: 157.6976 - val_loss: 316.9169\n",
      "Epoch 85/100\n",
      "265/265 [==============================] - 2s 9ms/step - loss: 156.8096 - val_loss: 302.2173\n",
      "Epoch 86/100\n",
      "265/265 [==============================] - 2s 9ms/step - loss: 154.4882 - val_loss: 285.4090\n",
      "Epoch 87/100\n",
      "265/265 [==============================] - 2s 9ms/step - loss: 152.3156 - val_loss: 278.8986\n",
      "Epoch 88/100\n",
      "265/265 [==============================] - 2s 9ms/step - loss: 151.9651 - val_loss: 336.4857\n",
      "Epoch 89/100\n",
      "265/265 [==============================] - 2s 9ms/step - loss: 148.4639 - val_loss: 288.0451\n",
      "Epoch 90/100\n",
      "265/265 [==============================] - 2s 9ms/step - loss: 147.5518 - val_loss: 275.4110\n",
      "Epoch 91/100\n",
      "265/265 [==============================] - 2s 9ms/step - loss: 146.7659 - val_loss: 288.8578\n",
      "Epoch 92/100\n",
      "265/265 [==============================] - 2s 9ms/step - loss: 144.7305 - val_loss: 292.0565\n",
      "Epoch 93/100\n",
      "265/265 [==============================] - 2s 9ms/step - loss: 143.2944 - val_loss: 285.7140\n",
      "Epoch 94/100\n",
      "265/265 [==============================] - 2s 9ms/step - loss: 142.1178 - val_loss: 286.5815\n",
      "Epoch 95/100\n",
      "265/265 [==============================] - 2s 9ms/step - loss: 141.1873 - val_loss: 284.5351\n",
      "Epoch 96/100\n",
      "265/265 [==============================] - 3s 11ms/step - loss: 139.8306 - val_loss: 326.5370\n",
      "Epoch 97/100\n",
      "265/265 [==============================] - 2s 9ms/step - loss: 139.2822 - val_loss: 294.2202\n",
      "Epoch 98/100\n",
      "265/265 [==============================] - 2s 9ms/step - loss: 139.2294 - val_loss: 310.6417\n",
      "Epoch 98: early stopping\n"
     ]
    },
    {
     "name": "stderr",
     "output_type": "stream",
     "text": [
      "2023-07-23 20:36:42.604788: I tensorflow/core/common_runtime/executor.cc:1197] [/device:CPU:0] (DEBUG INFO) Executor start aborting (this does not indicate an error and you can ignore this message): INVALID_ARGUMENT: You must feed a value for placeholder tensor 'gradients/split_2_grad/concat/split_2/split_dim' with dtype int32\n",
      "\t [[{{node gradients/split_2_grad/concat/split_2/split_dim}}]]\n",
      "2023-07-23 20:36:42.607533: I tensorflow/core/common_runtime/executor.cc:1197] [/device:CPU:0] (DEBUG INFO) Executor start aborting (this does not indicate an error and you can ignore this message): INVALID_ARGUMENT: You must feed a value for placeholder tensor 'gradients/split_grad/concat/split/split_dim' with dtype int32\n",
      "\t [[{{node gradients/split_grad/concat/split/split_dim}}]]\n",
      "2023-07-23 20:36:42.609560: I tensorflow/core/common_runtime/executor.cc:1197] [/device:CPU:0] (DEBUG INFO) Executor start aborting (this does not indicate an error and you can ignore this message): INVALID_ARGUMENT: You must feed a value for placeholder tensor 'gradients/split_1_grad/concat/split_1/split_dim' with dtype int32\n",
      "\t [[{{node gradients/split_1_grad/concat/split_1/split_dim}}]]\n"
     ]
    },
    {
     "name": "stdout",
     "output_type": "stream",
     "text": [
      "2/2 [==============================] - 1s 6ms/step\n",
      "MAE:  260.2335554232662\n",
      "MSE:  98945.23677441207\n",
      "RMSE:  314.5556179349084\n",
      "MAPE:  5.691437017977627\n"
     ]
    },
    {
     "data": {
      "image/png": "[encoded data removed]",
      "text/plain": [
       "<Figure size 800x600 with 1 Axes>"
      ]
     },
     "metadata": {},
     "output_type": "display_data"
    },
    {
     "name": "stderr",
     "output_type": "stream",
     "text": [
      "2023-07-23 20:36:43.113877: I tensorflow/core/common_runtime/executor.cc:1197] [/device:CPU:0] (DEBUG INFO) Executor start aborting (this does not indicate an error and you can ignore this message): INVALID_ARGUMENT: You must feed a value for placeholder tensor 'Placeholder/_1' with dtype double and shape [146,5]\n",
      "\t [[{{node Placeholder/_1}}]]\n",
      "2023-07-23 20:36:43.392981: I tensorflow/core/common_runtime/executor.cc:1197] [/device:CPU:0] (DEBUG INFO) Executor start aborting (this does not indicate an error and you can ignore this message): INVALID_ARGUMENT: You must feed a value for placeholder tensor 'gradients/split_2_grad/concat/split_2/split_dim' with dtype int32\n",
      "\t [[{{node gradients/split_2_grad/concat/split_2/split_dim}}]]\n",
      "2023-07-23 20:36:43.395258: I tensorflow/core/common_runtime/executor.cc:1197] [/device:CPU:0] (DEBUG INFO) Executor start aborting (this does not indicate an error and you can ignore this message): INVALID_ARGUMENT: You must feed a value for placeholder tensor 'gradients/split_grad/concat/split/split_dim' with dtype int32\n",
      "\t [[{{node gradients/split_grad/concat/split/split_dim}}]]\n",
      "2023-07-23 20:36:43.396955: I tensorflow/core/common_runtime/executor.cc:1197] [/device:CPU:0] (DEBUG INFO) Executor start aborting (this does not indicate an error and you can ignore this message): INVALID_ARGUMENT: You must feed a value for placeholder tensor 'gradients/split_1_grad/concat/split_1/split_dim' with dtype int32\n",
      "\t [[{{node gradients/split_1_grad/concat/split_1/split_dim}}]]\n"
     ]
    },
    {
     "name": "stdout",
     "output_type": "stream",
     "text": [
      "3/3 [==============================] - 0s 3ms/step\n"
     ]
    },
    {
     "data": {
      "image/png": "[encoded data removed]",
      "text/plain": [
       "<Figure size 1200x600 with 1 Axes>"
      ]
     },
     "metadata": {},
     "output_type": "display_data"
    },
    {
     "name": "stdout",
     "output_type": "stream",
     "text": [
      "2/2 [==============================] - 0s 4ms/step\n"
     ]
    },
    {
     "data": {
      "image/png": "[encoded data removed]",
      "text/plain": [
       "<Figure size 1200x600 with 1 Axes>"
      ]
     },
     "metadata": {},
     "output_type": "display_data"
    },
    {
     "name": "stdout",
     "output_type": "stream",
     "text": [
      "3/3 [==============================] - 0s 3ms/step\n"
     ]
    },
    {
     "data": {
      "image/png": "[encoded data removed]",
      "text/plain": [
       "<Figure size 1200x600 with 1 Axes>"
      ]
     },
     "metadata": {},
     "output_type": "display_data"
    },
    {
     "name": "stdout",
     "output_type": "stream",
     "text": [
      "2/2 [==============================] - 0s 4ms/step\n"
     ]
    },
    {
     "data": {
      "image/png": "[encoded data removed]",
      "text/plain": [
       "<Figure size 1200x600 with 1 Axes>"
      ]
     },
     "metadata": {},
     "output_type": "display_data"
    }
   ],
   "source": [
    "multi_step_model = tf.keras.models.Sequential()\n",
    "multi_step_model.add(tf.keras.layers.LSTM(64,\n",
    "                   return_sequences=True,\n",
    "                   input_shape=x_train_multi.shape[-2:],\n",
    "                   kernel_regularizer=tf.keras.regularizers.l1_l2(l1=0.2, l2=0.1)))\n",
    "#     multi_step_model.add(tf.keras.layers.Dropout(DROPOUT_RATE))\n",
    "multi_step_model.add(tf.keras.layers.LSTM(\n",
    "                    32, activation=activation_functions[7],\n",
    "                    kernel_regularizer=tf.keras.regularizers.l1_l2(l1=0.3, l2=0.3)))\n",
    "#     multi_step_model.add(tf.keras.layers.Dropout(DROPOUT_RATE))\n",
    "multi_step_model.add(tf.keras.layers.Dense(5))\n",
    "optimizer = tf.keras.optimizers.Nadam(learning_rate=10**-5)\n",
    "multi_step_model.compile(optimizer=optimizer, loss='mae')\n",
    "es = tf.keras.callbacks.EarlyStopping(monitor='val_loss', patience=15, verbose=1)\n",
    "\n",
    "multi_step_history = multi_step_model.fit(train_data_multi,\n",
    "          epochs=100,\n",
    "          steps_per_epoch=265,\n",
    "          validation_data=val_data_multi,\n",
    "          validation_steps=80,\n",
    "          callbacks=[es])\n",
    "# multi_step_model.save(MODEL_NAME+'.h5')\n",
    "## METRICS\n",
    "val_steps = (len(y_val_multi) - 1) // BATCH_SIZE + 1\n",
    "y_pred = multi_step_model.predict(val_data_multi, steps=val_steps)\n",
    "# Calculate RMSE, MAE and MSE\n",
    "mae = mean_absolute_error(y_val_multi, y_pred)\n",
    "mse = mean_squared_error(y_val_multi, y_pred)\n",
    "rmse = np.sqrt(mean_squared_error(y_val_multi, y_pred))\n",
    "# Calculate MAPE\n",
    "abs_error = np.abs(y_val_multi - y_pred)\n",
    "pct_error = abs_error / y_val_multi * 100\n",
    "mape = np.mean(pct_error)\n",
    "print('MAE: ', mae)\n",
    "print('MSE: ', mse)\n",
    "print('RMSE: ', rmse)\n",
    "print('MAPE: ', mape)\n",
    "\n",
    "plot_train_history(multi_step_history, 'Multi-Step Training and validation loss')\n",
    "plot_predictions(val_data_multi, multi_step_model)\n",
    "# return rmse, mae, mse, mape"
   ]
  },
  {
   "cell_type": "code",
   "execution_count": 18,
   "metadata": {
    "scrolled": false
   },
   "outputs": [],
   "source": [
    "# run_model('base_lstm_model', EPOCHS=100, LSTM1_UNITS=64, LSTM2_UNITS=32, DROPOUT_RATE=0, LEARNING_RATE=-5, STEPS_PER_EPOCH=265, OPTIMIZER=6, ACTIVATION=7)"
   ]
  },
  {
   "cell_type": "code",
   "execution_count": null,
   "metadata": {},
   "outputs": [],
   "source": []
  },
  {
   "cell_type": "code",
   "execution_count": null,
   "metadata": {},
   "outputs": [],
   "source": []
  }
 ],
 "metadata": {
  "colab": {
   "collapsed_sections": [],
   "name": "TimeSeriesForecasting_LSTMs.ipynb",
   "provenance": []
  },
  "kernelspec": {
   "display_name": "Python 3 (ipykernel)",
   "language": "python",
   "name": "python3"
  },
  "language_info": {
   "codemirror_mode": {
    "name": "ipython",
    "version": 3
   },
   "file_extension": ".py",
   "mimetype": "text/x-python",
   "name": "python",
   "nbconvert_exporter": "python",
   "pygments_lexer": "ipython3",
   "version": "3.9.16"
  },
  "latex_envs": {
   "LaTeX_envs_menu_present": true,
   "autoclose": false,
   "autocomplete": true,
   "bibliofile": "biblio.bib",
   "cite_by": "apalike",
   "current_citInitial": 1,
   "eqLabelWithNumbers": true,
   "eqNumInitial": 1,
   "hotkeys": {
    "equation": "Ctrl-E",
    "itemize": "Ctrl-I"
   },
   "labels_anchors": false,
   "latex_user_defs": false,
   "report_style_numbering": false,
   "user_envs_cfg": false
  },
  "nbTranslate": {
   "displayLangs": [
    "*"
   ],
   "hotkey": "alt-t",
   "langInMainMenu": true,
   "sourceLang": "en",
   "targetLang": "fr",
   "useGoogleTranslate": true
  },
  "toc": {
   "base_numbering": 1,
   "nav_menu": {},
   "number_sections": true,
   "sideBar": true,
   "skip_h1_title": false,
   "title_cell": "Table of Contents",
   "title_sidebar": "Contents",
   "toc_cell": false,
   "toc_position": {},
   "toc_section_display": true,
   "toc_window_display": false
  },
  "varInspector": {
   "cols": {
    "lenName": 16,
    "lenType": 16,
    "lenVar": 40
   },
   "kernels_config": {
    "python": {
     "delete_cmd_postfix": "",
     "delete_cmd_prefix": "del ",
     "library": "var_list.py",
     "varRefreshCmd": "print(var_dic_list())"
    },
    "r": {
     "delete_cmd_postfix": ") ",
     "delete_cmd_prefix": "rm(",
     "library": "var_list.r",
     "varRefreshCmd": "cat(var_dic_list()) "
    }
   },
   "types_to_exclude": [
    "module",
    "function",
    "builtin_function_or_method",
    "instance",
    "_Feature"
   ],
   "window_display": false
  }
 },
 "nbformat": 4,
 "nbformat_minor": 1
}
